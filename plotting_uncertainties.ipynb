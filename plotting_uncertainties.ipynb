{
 "cells": [
  {
   "cell_type": "markdown",
   "metadata": {},
   "source": [
    "# Plotting Uncertainties\n",
    "\n",
    "In this notebook we will plot uncertainties together with the actual measured data points when conducting experiments. \n",
    "\n",
    "We'll be using the first year experiment \"Fusing current of wire conductors\" as an example. Recall the experiment introduction.\n",
    "\n",
    "### Experiment description\n",
    "\n",
    "The aim of the experiment is to investigate the relationship between the fusing current and the diameter for wire conductors. In 1884, William Henry Preece derived a fundamental law of fusing by considering the balance of heat generation ($I^2R$) with the heat loss ($\\pi hdl$), which is approximately valid near the fusing threshold. Here it is assumed that the wire current is constant. The symbols used represent the following: $I$ for the wire current, $R$ for the wire resistance, $\\sigma$ is the wire electrical conudctivity, $h$ is heat load per unit area from radiation or convection, $d$ is for the wire diameter, and $l$ is the wire length. Thus\n",
    "\n",
    "$$ I^2_fR=I2_f\\frac{4l}{\\sigma \\pi d^2} = \\pi hdl $$\n",
    "or\n",
    "$$ I_f = BD^{3/2}\\;\\text{and}\\; B=\\frac{1}{2}\\pi\\sqrt{\\sigma h}$$\n",
    "\n",
    "where $I_f$ denotes the fusing current. Preece's law states that the wire fusing current is proportional to the wire diameter to the three halves power. Note that this effect is independent of length (however for practical purposes the length of the wire should be just loose due to internal resistance).\n",
    "\n",
    "For the purpose of this notebook, the experiment readings have already been performed and we need to perform the required data analysis. The resulting measurements are stored in [this excel file](data/fusing_current_data.xlsx). \n",
    "\n",
    "### Data Analysis\n",
    "\n",
    "The relation between the fusion current $I_F$ and the diameter $d$ of the wire can be written in the form\n",
    "\n",
    "$$ I_F = kd^a $$.\n",
    "\n",
    "where $a$ is a constant that according to theoretical calculations is equal to 3/2. Use logarithms to set the above equation in a straight line format. Hence, plot a suitable graph to determine the value of $a$ that can be obtained from measurements. Inculde error bars for the measurements in your plot. \n",
    "\n",
    "We can load the data using pandas:"
   ]
  },
  {
   "cell_type": "code",
   "execution_count": 1,
   "metadata": {},
   "outputs": [],
   "source": [
    "import pandas as pd"
   ]
  },
  {
   "cell_type": "code",
   "execution_count": 2,
   "metadata": {},
   "outputs": [
    {
     "data": {
      "text/html": [
       "<div>\n",
       "<style scoped>\n",
       "    .dataframe tbody tr th:only-of-type {\n",
       "        vertical-align: middle;\n",
       "    }\n",
       "\n",
       "    .dataframe tbody tr th {\n",
       "        vertical-align: top;\n",
       "    }\n",
       "\n",
       "    .dataframe thead th {\n",
       "        text-align: right;\n",
       "    }\n",
       "</style>\n",
       "<table border=\"1\" class=\"dataframe\">\n",
       "  <thead>\n",
       "    <tr style=\"text-align: right;\">\n",
       "      <th></th>\n",
       "      <th>I1/A</th>\n",
       "      <th>d1/mm</th>\n",
       "      <th>d2/mm</th>\n",
       "      <th>I2/A</th>\n",
       "      <th>d3/mm</th>\n",
       "      <th>d4/mm</th>\n",
       "      <th>I3/A</th>\n",
       "      <th>d5/mm</th>\n",
       "      <th>d6/mm</th>\n",
       "    </tr>\n",
       "  </thead>\n",
       "  <tbody>\n",
       "    <tr>\n",
       "      <td>0</td>\n",
       "      <td>4</td>\n",
       "      <td>0.15</td>\n",
       "      <td>0.15</td>\n",
       "      <td>3.5</td>\n",
       "      <td>0.14</td>\n",
       "      <td>0.14</td>\n",
       "      <td>4.0</td>\n",
       "      <td>0.15</td>\n",
       "      <td>0.15</td>\n",
       "    </tr>\n",
       "    <tr>\n",
       "      <td>1</td>\n",
       "      <td>8</td>\n",
       "      <td>0.24</td>\n",
       "      <td>0.24</td>\n",
       "      <td>7.0</td>\n",
       "      <td>0.25</td>\n",
       "      <td>0.25</td>\n",
       "      <td>7.5</td>\n",
       "      <td>0.25</td>\n",
       "      <td>0.25</td>\n",
       "    </tr>\n",
       "    <tr>\n",
       "      <td>2</td>\n",
       "      <td>13</td>\n",
       "      <td>0.29</td>\n",
       "      <td>0.29</td>\n",
       "      <td>13.0</td>\n",
       "      <td>0.28</td>\n",
       "      <td>0.28</td>\n",
       "      <td>12.5</td>\n",
       "      <td>0.27</td>\n",
       "      <td>0.27</td>\n",
       "    </tr>\n",
       "    <tr>\n",
       "      <td>3</td>\n",
       "      <td>13</td>\n",
       "      <td>0.31</td>\n",
       "      <td>0.31</td>\n",
       "      <td>13.5</td>\n",
       "      <td>0.31</td>\n",
       "      <td>0.31</td>\n",
       "      <td>13.0</td>\n",
       "      <td>0.31</td>\n",
       "      <td>0.31</td>\n",
       "    </tr>\n",
       "    <tr>\n",
       "      <td>4</td>\n",
       "      <td>15</td>\n",
       "      <td>0.34</td>\n",
       "      <td>0.34</td>\n",
       "      <td>15.0</td>\n",
       "      <td>0.33</td>\n",
       "      <td>0.33</td>\n",
       "      <td>14.5</td>\n",
       "      <td>0.34</td>\n",
       "      <td>0.34</td>\n",
       "    </tr>\n",
       "  </tbody>\n",
       "</table>\n",
       "</div>"
      ],
      "text/plain": [
       "   I1/A  d1/mm  d2/mm  I2/A  d3/mm  d4/mm  I3/A  d5/mm  d6/mm\n",
       "0     4   0.15   0.15   3.5   0.14   0.14   4.0   0.15   0.15\n",
       "1     8   0.24   0.24   7.0   0.25   0.25   7.5   0.25   0.25\n",
       "2    13   0.29   0.29  13.0   0.28   0.28  12.5   0.27   0.27\n",
       "3    13   0.31   0.31  13.5   0.31   0.31  13.0   0.31   0.31\n",
       "4    15   0.34   0.34  15.0   0.33   0.33  14.5   0.34   0.34"
      ]
     },
     "execution_count": 2,
     "metadata": {},
     "output_type": "execute_result"
    }
   ],
   "source": [
    "# Read excel file using pandas\n",
    "data = pd.read_excel('data/fusing_current_data.xlsx', 0)\n",
    "\n",
    "# Display data\n",
    "data"
   ]
  },
  {
   "cell_type": "markdown",
   "metadata": {},
   "source": [
    "As we can see, the data in the excel file consists of multiple rows which show the readings for a specific current. For each row there were multiple measurements of the current and wire diameter. \n",
    "\n",
    "First we should find the average current and diameter for each row:"
   ]
  },
  {
   "cell_type": "code",
   "execution_count": 3,
   "metadata": {},
   "outputs": [],
   "source": [
    "import numpy as np\n",
    "\n",
    "# Calculate average current for each row\n",
    "average_I = data['I1/A'] + data['I2/A'] + data['I3/A']\n",
    "average_I /= 3\n",
    "\n",
    "# Calculate average diameter for each row\n",
    "average_d = data['d1/mm'] + data['d2/mm'] + data['d3/mm'] + data['d4/mm'] + data['d5/mm'] + data['d6/mm']\n",
    "average_d /= 6"
   ]
  },
  {
   "cell_type": "markdown",
   "metadata": {},
   "source": [
    "To include the error bars we need to calculate $\\Delta I$ and $\\Delta d$:"
   ]
  },
  {
   "cell_type": "code",
   "execution_count": 4,
   "metadata": {},
   "outputs": [],
   "source": [
    "standard_deviation = np.std([data['I1/A'], data['I2/A'], data['I3/A']], axis=0, ddof=1)\n",
    "delta_I = 3.182 * standard_deviation / np.sqrt(3)\n",
    "\n",
    "standard_deviation = np.std([data['d1/mm'], data['d2/mm'], data['d3/mm'], data['d4/mm'], data['d5/mm'], data['d6/mm']], axis=0, ddof=1)\n",
    "delta_d = 2.447 * standard_deviation / np.sqrt(6)"
   ]
  },
  {
   "cell_type": "markdown",
   "metadata": {},
   "source": [
    "Now that we have the value and their deltas, we need to take the natural logarithm to convert this to a straight line."
   ]
  },
  {
   "cell_type": "code",
   "execution_count": 5,
   "metadata": {},
   "outputs": [],
   "source": [
    "delta_I /= average_I\n",
    "delta_d /= average_d\n",
    "\n",
    "# Compute the logs of array which do not have invalid values \n",
    "average_I = np.log(average_I)\n",
    "average_d = np.log(average_d)"
   ]
  },
  {
   "cell_type": "markdown",
   "metadata": {},
   "source": [
    "We can plot these points and their errors using matplotlib's `errorbar` plotting function."
   ]
  },
  {
   "cell_type": "code",
   "execution_count": 9,
   "metadata": {},
   "outputs": [
    {
     "data": {
      "image/png": "[encoded data removed]",
      "text/plain": [
       "<Figure size 432x288 with 1 Axes>"
      ]
     },
     "metadata": {
      "needs_background": "light"
     },
     "output_type": "display_data"
    }
   ],
   "source": [
    "import matplotlib.pyplot as plt\n",
    "\n",
    "# Enable inline plotting\n",
    "%matplotlib inline\n",
    "\n",
    "plt.errorbar(average_d, average_I, xerr=delta_d, yerr=delta_I, fmt='o')\n",
    "plt.show()"
   ]
  },
  {
   "cell_type": "markdown",
   "metadata": {},
   "source": [
    "We have displayed the points. Now we need to fit a line:"
   ]
  },
  {
   "cell_type": "code",
   "execution_count": 10,
   "metadata": {},
   "outputs": [],
   "source": [
    "# Calculate the polynomical coefficients (last parameters is the number of coefficients)\n",
    "coeffs = np.polyfit(average_d, average_I, 1)\n",
    "\n",
    "# Generate the polynomial function, which when called will take a list of x-values\n",
    "# and will return the respective y values\n",
    "poly_function = np.poly1d(coeffs)\n",
    "\n",
    "# Generate trendline\n",
    "trendline = poly_function(average_d)"
   ]
  },
  {
   "cell_type": "markdown",
   "metadata": {},
   "source": [
    "Generate the final plot showing data points with error bars and the trendline"
   ]
  },
  {
   "cell_type": "code",
   "execution_count": 11,
   "metadata": {},
   "outputs": [
    {
     "data": {
      "image/png": "[encoded data removed]",
      "text/plain": [
       "<Figure size 576x720 with 1 Axes>"
      ]
     },
     "metadata": {
      "needs_background": "light"
     },
     "output_type": "display_data"
    }
   ],
   "source": [
    "import matplotlib.pyplot as plt\n",
    "\n",
    "# Set the font to Cambria and size 12\n",
    "plt.rcParams[\"font.family\"] = \"Cambria\"\n",
    "plt.rcParams[\"font.size\"] = 12\n",
    "plt.rcParams[\"font.weight\"] = \"normal\"\n",
    "\n",
    "# Create figure and set size\n",
    "f = plt.figure(figsize=(8, 10))\n",
    "\n",
    "# Show the data\n",
    "plt.errorbar(average_d, average_I, xerr=delta_d, yerr=delta_I, \n",
    "             fmt='o', color='k', elinewidth=2, capsize=5, \n",
    "             capthick=2, ecolor='gray')\n",
    "\n",
    "# Show the trendline\n",
    "plt.plot(average_d, trendline, 'k--')\n",
    "\n",
    "# Enable minor ticks so that we can show a fine grid\n",
    "plt.minorticks_on()\n",
    "plt.grid(b=True, which='major', linestyle='-')\n",
    "plt.grid(b=True, which='minor', linestyle='--')\n",
    "\n",
    "# Display labels\n",
    "plt.xlabel(r\"$\\ln(d)$\")\n",
    "plt.ylabel(r\"$\\ln(I)$\")\n",
    "\n",
    "plt.show()"
   ]
  },
  {
   "cell_type": "markdown",
   "metadata": {},
   "source": [
    "***\n",
    "\n",
    "The following files contain experiment data for some of the first years experiments you preformed last year. You can practice producing error bars through them:\n",
    "* [Resistor IV](data/resistor_data.xlsx)\n",
    "* [Calibration of thermocouples](data/thermocopule.xlsx)\n",
    "* [Poiseuille's formula](data/poiseuille_data.xlsx)\n",
    "\n",
    "Additionally, you can also try this out by plotting [CMB data generated by the BICEP2 telescope](data/cmb_bicep2_data.xlsx)"
   ]
  }
 ],
 "metadata": {
  "kernelspec": {
   "display_name": "Python 3",
   "language": "python",
   "name": "python3"
  },
  "language_info": {
   "codemirror_mode": {
    "name": "ipython",
    "version": 3
   },
   "file_extension": ".py",
   "mimetype": "text/x-python",
   "name": "python",
   "nbconvert_exporter": "python",
   "pygments_lexer": "ipython3",
   "version": "3.8.10"
  }
 },
 "nbformat": 4,
 "nbformat_minor": 2
}
