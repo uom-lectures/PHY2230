{
 "cells": [
  {
   "cell_type": "markdown",
   "metadata": {
    "pycharm": {
     "name": "#%% md\n"
    }
   },
   "source": [
    "# Data Analysis Example\n",
    "\n",
    "In this notebook we use the example provided in \"Graph and Data Analysis Example\" and work out some of the questions using Python. \n",
    "\n",
    "## Problem \n",
    "\n",
    "A space observatory measures the speed $v$ with which a number of satellites are moving in their orbit together with their distance from Earth's center $r$. The complete set of results is given in the table below.\n",
    "\n",
    "![image.png](figures/satellites_table.png)\n",
    "\n",
    "Newton's laws of gravitation indicates that the velocity is related to the distance from the Earth's center through the equation:\n",
    "\n",
    "$$ v^2= \\frac{\\frac{4}{3}\\pi G\\rho_ER^3_E}{r} $$\n",
    "\n",
    "where $G$ is the Universal Gravitational constant while $R_E$ and $\\rho_E$ are respectively the radius and density of Earth. In an effort to determine a value for $G$, the following measurements were also taken\n",
    "\n",
    "![image.png](figures/density_table.png)\n",
    "\n",
    "The above measuremets were saved in an [Excel workbook](data/data_analysis_example.xlsx) in a transposed manner, such that data values are in row order rather than column order.\n",
    "\n",
    "Use this information to answer the following questions:\n",
    "1. Determine the average and std values for the Earth's radius and density\n",
    "2. Calculate the corresponding values for $r^{-1}$ and $v^2$\n",
    "3. Plot a graph of $r^{-1}$ against $v^2$\n",
    "4. Determine the gradient and the intercept of this graph\n",
    "\n",
    "Please refer to the Graph and Data Analysis example for a discussion on how to interpret the tables above.\n",
    "\n",
    " ## Solution\n",
    " \n",
    "The answers for (1) can be obtained by using a calculator, however this is labour intensive so we'll be using Python to do so. First order of business is to load the contents of the Excel file. We'll be using [Pandas](pandas.ipynb) to do so. \n",
    " \n",
    "Let's import all the required packages first"
   ]
  },
  {
   "cell_type": "code",
   "execution_count": 1,
   "metadata": {
    "pycharm": {
     "name": "#%%\n"
    }
   },
   "outputs": [],
   "source": [
    "from matplotlib import pyplot as plt\n",
    "from math import sqrt\n",
    "import pandas as pd\n",
    "import numpy as np\n",
    "\n",
    "# Enable inline plotting\n",
    "%matplotlib inline"
   ]
  },
  {
   "cell_type": "markdown",
   "metadata": {
    "pycharm": {
     "name": "#%% md\n"
    }
   },
   "source": [
    " #### 0. Load Excel sheet"
   ]
  },
  {
   "cell_type": "code",
   "execution_count": 15,
   "metadata": {
    "pycharm": {
     "name": "#%%\n"
    }
   },
   "outputs": [
    {
     "data": {
      "text/html": [
       "<div>\n",
       "<style scoped>\n",
       "    .dataframe tbody tr th:only-of-type {\n",
       "        vertical-align: middle;\n",
       "    }\n",
       "\n",
       "    .dataframe tbody tr th {\n",
       "        vertical-align: top;\n",
       "    }\n",
       "\n",
       "    .dataframe thead th {\n",
       "        text-align: right;\n",
       "    }\n",
       "</style>\n",
       "<table border=\"1\" class=\"dataframe\">\n",
       "  <thead>\n",
       "    <tr style=\"text-align: right;\">\n",
       "      <th></th>\n",
       "      <th>r / km</th>\n",
       "      <th>v / 104 km hr-1</th>\n",
       "    </tr>\n",
       "  </thead>\n",
       "  <tbody>\n",
       "    <tr>\n",
       "      <th>0</th>\n",
       "      <td>±1</td>\n",
       "      <td>±0.001</td>\n",
       "    </tr>\n",
       "    <tr>\n",
       "      <th>1</th>\n",
       "      <td>8426</td>\n",
       "      <td>2.34</td>\n",
       "    </tr>\n",
       "    <tr>\n",
       "      <th>2</th>\n",
       "      <td>10152</td>\n",
       "      <td>2.232</td>\n",
       "    </tr>\n",
       "    <tr>\n",
       "      <th>3</th>\n",
       "      <td>12309</td>\n",
       "      <td>1.987</td>\n",
       "    </tr>\n",
       "    <tr>\n",
       "      <th>4</th>\n",
       "      <td>15227</td>\n",
       "      <td>1.763</td>\n",
       "    </tr>\n",
       "    <tr>\n",
       "      <th>5</th>\n",
       "      <td>21036</td>\n",
       "      <td>1.653</td>\n",
       "    </tr>\n",
       "    <tr>\n",
       "      <th>6</th>\n",
       "      <td>29241</td>\n",
       "      <td>1.432</td>\n",
       "    </tr>\n",
       "    <tr>\n",
       "      <th>7</th>\n",
       "      <td>40676</td>\n",
       "      <td>1.136</td>\n",
       "    </tr>\n",
       "    <tr>\n",
       "      <th>8</th>\n",
       "      <td>71002</td>\n",
       "      <td>0.923</td>\n",
       "    </tr>\n",
       "  </tbody>\n",
       "</table>\n",
       "</div>"
      ],
      "text/plain": [
       "  r / km v / 104 km hr-1\n",
       "0     ±1          ±0.001\n",
       "1   8426            2.34\n",
       "2  10152           2.232\n",
       "3  12309           1.987\n",
       "4  15227           1.763\n",
       "5  21036           1.653\n",
       "6  29241           1.432\n",
       "7  40676           1.136\n",
       "8  71002           0.923"
      ]
     },
     "execution_count": 15,
     "metadata": {},
     "output_type": "execute_result"
    }
   ],
   "source": [
    "# Read the first worksheet\n",
    "satellite_speed = pd.read_excel('data/data_analysis_example.xlsx', 0)\n",
    "satellite_speed"
   ]
  },
  {
   "cell_type": "markdown",
   "metadata": {
    "pycharm": {
     "name": "#%% md\n"
    }
   },
   "source": [
    "Note that the above statement loads the data as well as the column titles (the topmost two rows). Since this is not part of our data we do not need to load them. We'll reload the file and this time specify that we want to skip the first 2 rows (`skiprows=2`), to not treat the first row in the loaded data as a header (`header=None`), and we'll be providing names to the columns to make it easier to index later (`names=['r', 'v']`):"
   ]
  },
  {
   "cell_type": "code",
   "execution_count": 3,
   "metadata": {
    "pycharm": {
     "name": "#%%\n"
    }
   },
   "outputs": [
    {
     "data": {
      "text/html": [
       "<div>\n",
       "<style scoped>\n",
       "    .dataframe tbody tr th:only-of-type {\n",
       "        vertical-align: middle;\n",
       "    }\n",
       "\n",
       "    .dataframe tbody tr th {\n",
       "        vertical-align: top;\n",
       "    }\n",
       "\n",
       "    .dataframe thead th {\n",
       "        text-align: right;\n",
       "    }\n",
       "</style>\n",
       "<table border=\"1\" class=\"dataframe\">\n",
       "  <thead>\n",
       "    <tr style=\"text-align: right;\">\n",
       "      <th></th>\n",
       "      <th>r</th>\n",
       "      <th>v</th>\n",
       "    </tr>\n",
       "  </thead>\n",
       "  <tbody>\n",
       "    <tr>\n",
       "      <th>0</th>\n",
       "      <td>8426</td>\n",
       "      <td>2.340</td>\n",
       "    </tr>\n",
       "    <tr>\n",
       "      <th>1</th>\n",
       "      <td>10152</td>\n",
       "      <td>2.232</td>\n",
       "    </tr>\n",
       "    <tr>\n",
       "      <th>2</th>\n",
       "      <td>12309</td>\n",
       "      <td>1.987</td>\n",
       "    </tr>\n",
       "    <tr>\n",
       "      <th>3</th>\n",
       "      <td>15227</td>\n",
       "      <td>1.763</td>\n",
       "    </tr>\n",
       "    <tr>\n",
       "      <th>4</th>\n",
       "      <td>21036</td>\n",
       "      <td>1.653</td>\n",
       "    </tr>\n",
       "    <tr>\n",
       "      <th>5</th>\n",
       "      <td>29241</td>\n",
       "      <td>1.432</td>\n",
       "    </tr>\n",
       "    <tr>\n",
       "      <th>6</th>\n",
       "      <td>40676</td>\n",
       "      <td>1.136</td>\n",
       "    </tr>\n",
       "    <tr>\n",
       "      <th>7</th>\n",
       "      <td>71002</td>\n",
       "      <td>0.923</td>\n",
       "    </tr>\n",
       "  </tbody>\n",
       "</table>\n",
       "</div>"
      ],
      "text/plain": [
       "       r      v\n",
       "0   8426  2.340\n",
       "1  10152  2.232\n",
       "2  12309  1.987\n",
       "3  15227  1.763\n",
       "4  21036  1.653\n",
       "5  29241  1.432\n",
       "6  40676  1.136\n",
       "7  71002  0.923"
      ]
     },
     "execution_count": 3,
     "metadata": {},
     "output_type": "execute_result"
    }
   ],
   "source": [
    "satellite_speed = pd.read_excel('data/data_analysis_example.xlsx', 0, header=None, skiprows=2, names=['r', 'v'])\n",
    "satellite_speed"
   ]
  },
  {
   "cell_type": "markdown",
   "metadata": {
    "pycharm": {
     "name": "#%% md\n"
    }
   },
   "source": []
  },
  {
   "cell_type": "markdown",
   "metadata": {
    "pycharm": {
     "name": "#%% md\n"
    }
   },
   "source": [
    "Let's load the second worksheet as well (set the second argument to a value of 1)"
   ]
  },
  {
   "cell_type": "code",
   "execution_count": 16,
   "metadata": {
    "pycharm": {
     "name": "#%%\n"
    }
   },
   "outputs": [
    {
     "data": {
      "text/html": [
       "<div>\n",
       "<style scoped>\n",
       "    .dataframe tbody tr th:only-of-type {\n",
       "        vertical-align: middle;\n",
       "    }\n",
       "\n",
       "    .dataframe tbody tr th {\n",
       "        vertical-align: top;\n",
       "    }\n",
       "\n",
       "    .dataframe thead th {\n",
       "        text-align: right;\n",
       "    }\n",
       "</style>\n",
       "<table border=\"1\" class=\"dataframe\">\n",
       "  <thead>\n",
       "    <tr style=\"text-align: right;\">\n",
       "      <th></th>\n",
       "      <th>p</th>\n",
       "      <th>R</th>\n",
       "    </tr>\n",
       "  </thead>\n",
       "  <tbody>\n",
       "    <tr>\n",
       "      <th>0</th>\n",
       "      <td>5520</td>\n",
       "      <td>6378</td>\n",
       "    </tr>\n",
       "    <tr>\n",
       "      <th>1</th>\n",
       "      <td>5495</td>\n",
       "      <td>6362</td>\n",
       "    </tr>\n",
       "    <tr>\n",
       "      <th>2</th>\n",
       "      <td>5630</td>\n",
       "      <td>6390</td>\n",
       "    </tr>\n",
       "    <tr>\n",
       "      <th>3</th>\n",
       "      <td>5523</td>\n",
       "      <td>6383</td>\n",
       "    </tr>\n",
       "    <tr>\n",
       "      <th>4</th>\n",
       "      <td>5540</td>\n",
       "      <td>6369</td>\n",
       "    </tr>\n",
       "  </tbody>\n",
       "</table>\n",
       "</div>"
      ],
      "text/plain": [
       "      p     R\n",
       "0  5520  6378\n",
       "1  5495  6362\n",
       "2  5630  6390\n",
       "3  5523  6383\n",
       "4  5540  6369"
      ]
     },
     "execution_count": 16,
     "metadata": {},
     "output_type": "execute_result"
    }
   ],
   "source": [
    "density_radius = pd.read_excel('data/data_analysis_example.xlsx', 1, header=None, skiprows=2, names=['p', 'R'])\n",
    "density_radius"
   ]
  },
  {
   "cell_type": "markdown",
   "metadata": {
    "pycharm": {
     "name": "#%% md\n"
    }
   },
   "source": [
    "Let us seperate the rows from both tables so that we can work with 1D arrays."
   ]
  },
  {
   "cell_type": "code",
   "execution_count": 5,
   "metadata": {
    "pycharm": {
     "name": "#%%\n"
    }
   },
   "outputs": [
    {
     "data": {
      "text/plain": [
       "0    2.340\n",
       "1    2.232\n",
       "2    1.987\n",
       "3    1.763\n",
       "4    1.653\n",
       "5    1.432\n",
       "6    1.136\n",
       "7    0.923\n",
       "Name: v, dtype: float64"
      ]
     },
     "execution_count": 5,
     "metadata": {},
     "output_type": "execute_result"
    }
   ],
   "source": [
    "satellite_radius = satellite_speed['r']\n",
    "satellite_velocity =  satellite_speed['v']\n",
    "earth_density = density_radius['p']\n",
    "earth_radius = density_radius['R']\n",
    "\n",
    "satellite_velocity"
   ]
  },
  {
   "cell_type": "markdown",
   "metadata": {
    "pycharm": {
     "name": "#%% md\n"
    }
   },
   "source": [
    "#### 1. Average, standard deviation and uncertainty of  density and radius"
   ]
  },
  {
   "cell_type": "markdown",
   "metadata": {
    "pycharm": {
     "name": "#%% md\n"
    }
   },
   "source": [
    "To compute the average of the radius and density from the second table we can simply use the `mean` function applied on the dataframe."
   ]
  },
  {
   "cell_type": "code",
   "execution_count": 6,
   "metadata": {
    "pycharm": {
     "name": "#%%\n"
    }
   },
   "outputs": [
    {
     "name": "stdout",
     "output_type": "stream",
     "text": [
      "Average density is 5541.600, average radius is 6376.400\n"
     ]
    }
   ],
   "source": [
    "earth_density_average = earth_density.mean()\n",
    "earth_radius_average = earth_radius.mean()\n",
    "\n",
    "print(f\"Average density is {earth_density_average:.3f}, average radius is {earth_radius_average:.3f}\")"
   ]
  },
  {
   "cell_type": "markdown",
   "metadata": {
    "pycharm": {
     "name": "#%% md\n"
    }
   },
   "source": [
    "We can use the same technique to calculate the standard deviation, this time using the `std` function:"
   ]
  },
  {
   "cell_type": "code",
   "execution_count": 7,
   "metadata": {
    "pycharm": {
     "name": "#%%\n"
    }
   },
   "outputs": [
    {
     "name": "stdout",
     "output_type": "stream",
     "text": [
      "Std density is 51.964, std radius is 11.104\n"
     ]
    }
   ],
   "source": [
    "earth_density_std = earth_density.std()\n",
    "earth_radius_std = earth_radius.std()\n",
    "\n",
    "print(f\"Std density is {earth_density_std:.3f}, std radius is {earth_radius_std:.3f}\")"
   ]
  },
  {
   "cell_type": "markdown",
   "metadata": {
    "pycharm": {
     "name": "#%% md\n"
    }
   },
   "source": [
    "At this point we can compute the uncertainty of this calculation:\n",
    "\n",
    "$$ \\Delta \\overline{X} = t_{\\alpha,n-1} \\frac{s}{\\sqrt{n}}$$\n",
    "\n",
    "In this case $n$=5 so that $t_{\\alpha,n-1}$=2.78. We can now calculate the uncertainty in the density and radius:"
   ]
  },
  {
   "cell_type": "code",
   "execution_count": 8,
   "metadata": {
    "pycharm": {
     "name": "#%%\n"
    }
   },
   "outputs": [
    {
     "name": "stdout",
     "output_type": "stream",
     "text": [
      "Delta density is 64.605, delta radius is 13.805\n"
     ]
    }
   ],
   "source": [
    "from math import sqrt\n",
    "\n",
    "t = 2.78\n",
    "earth_delta_density = 2.78 * earth_density_std / sqrt(5)\n",
    "earth_delta_radius = 2.78 * earth_radius_std / sqrt(5)\n",
    "\n",
    "print(f\"Delta density is {earth_delta_density:.3f}, delta radius is {earth_delta_radius:.3f}\")"
   ]
  },
  {
   "cell_type": "markdown",
   "metadata": {
    "pycharm": {
     "name": "#%% md\n"
    }
   },
   "source": [
    "#### 2. Calculate values for $r^{-1}$ and $v^2$\n",
    "\n",
    "$r^{-1}$ is the inverse of the radius whilst $v^2$ is the square of the velocity. We can use Pandas to compute them. Note that the initial unit in velocity is 10<sup>4</sup> km h<sup>-1</sup> whilst we want the unit of the velocity squared in 10<sup>5</sup> m<sup>2</sup> s<sup>-1</sup>, so an appropriate conversion is required:"
   ]
  },
  {
   "cell_type": "code",
   "execution_count": 9,
   "metadata": {
    "pycharm": {
     "name": "#%%\n"
    }
   },
   "outputs": [],
   "source": [
    "radius_inverse = 1.0 / satellite_radius\n",
    "velocity_squared = (satellite_velocity * 1e3 * (1/3600.0) * 1e4) ** 2 * 1e-5"
   ]
  },
  {
   "cell_type": "markdown",
   "metadata": {
    "pycharm": {
     "name": "#%% md\n"
    }
   },
   "source": [
    "#### 3. Plot $v^2$ versus $r^{-1}$\n",
    "\n",
    "We will use matplotlib to plot these values. We want the units of the y-axis to be 10<sup>5</sup> m<sup>2</sup> s<sup>-1</sup> whilst those of the x-axis 10<sup>-9</sup> m, therefore we'll need to scale the inverse radius.\n",
    "\n",
    "We also want to plot the trendline (perform a linear regression on the data). To get the trendline we'll use the polynomial fitting function of `numpy`. This requires two steps:\n",
    "1. Calculate the polynomial coefficients required to generate the trendline. In our case, since we know that the data is linear, one coefficient (which would be the gradient) is enough\n",
    "2. Evaluate the polynomial across the required x-axis range"
   ]
  },
  {
   "cell_type": "code",
   "execution_count": 14,
   "metadata": {
    "pycharm": {
     "name": "#%%\n"
    }
   },
   "outputs": [
    {
     "data": {
      "text/plain": [
       "[<matplotlib.lines.Line2D at 0x7f7f354461f0>]"
      ]
     },
     "execution_count": 14,
     "metadata": {},
     "output_type": "execute_result"
    },
    {
     "data": {
      "image/png": "[encoded data removed]",
      "text/plain": [
       "<Figure size 800x1000 with 1 Axes>"
      ]
     },
     "metadata": {},
     "output_type": "display_data"
    }
   ],
   "source": [
    "scaled_radius_inverse = radius_inverse * 1e6\n",
    "\n",
    "# Set the font to STIX (similar to Cambria) and size 12\n",
    "plt.rcParams['font.family'] = 'STIXGeneral'\n",
    "plt.rcParams['mathtext.fontset'] = 'stix'\n",
    "plt.rcParams[\"font.size\"] = 12\n",
    "plt.rcParams[\"font.weight\"] = \"normal\"\n",
    "\n",
    "# Create figure and set size\n",
    "f = plt.figure(figsize=(8, 10))\n",
    "\n",
    "# Generate the scatter plot\n",
    "plt.scatter(scaled_radius_inverse, velocity_squared)\n",
    "\n",
    "# Show x and y label (you can use latex here)\n",
    "plt.xlabel(r'$r^{-1}$ / 10$^9$ m')\n",
    "plt.ylabel(r'$v^2$ / 10$^5$ m$^2$ s$^{-2}$')\n",
    "\n",
    "# Set x and y limits\n",
    "plt.xlim([0, 140])\n",
    "plt.ylim([0, 500])\n",
    "\n",
    "# Enable minor ticks so that we can show a fine grid\n",
    "plt.minorticks_on()\n",
    "plt.grid(which='major', linestyle='-')\n",
    "plt.grid(which='minor', linestyle='--')\n",
    "\n",
    "# Calculate the polynomical coefficients (last parameters is the number of coefficients)\n",
    "coeffs = np.polyfit(scaled_radius_inverse, velocity_squared, 1)\n",
    "\n",
    "# Generate the polynomial function, which when called will take a list of x-values\n",
    "# and will return the respective y values\n",
    "poly_function = np.poly1d(coeffs)\n",
    "\n",
    "# Generate trendline\n",
    "trendline = poly_function(scaled_radius_inverse)\n",
    "\n",
    "# Add trendline to plot\n",
    "plt.plot(scaled_radius_inverse, trendline)"
   ]
  },
  {
   "cell_type": "markdown",
   "metadata": {
    "pycharm": {
     "name": "#%% md\n"
    }
   },
   "source": [
    "To save your figure as an image file, you can use the statement below:"
   ]
  },
  {
   "cell_type": "code",
   "execution_count": 11,
   "metadata": {
    "pycharm": {
     "name": "#%%\n"
    }
   },
   "outputs": [
    {
     "data": {
      "text/plain": [
       "<Figure size 640x480 with 0 Axes>"
      ]
     },
     "metadata": {},
     "output_type": "display_data"
    }
   ],
   "source": [
    "plt.savefig(\"my_plot.png\", dpi=200)"
   ]
  },
  {
   "cell_type": "markdown",
   "metadata": {
    "pycharm": {
     "name": "#%% md\n"
    }
   },
   "source": [
    "#### 4. Obtain gradient and intercept\n",
    "\n",
    "Now that we have generated the trendline we can compute it's gradient and intercept. Remember that to compute the trendline we have fitted a 1D polynomial to the data. A 1D polynomial of the form $y=mx + c$ has 2 coefficients, $m$ and $c$, which automatically give us the required values. However, we are also interested in the *error* of these values. We can tell `polyfit` to return the residuals (covariance matrix) of the fit, which we can then use to calculate the error:"
   ]
  },
  {
   "cell_type": "code",
   "execution_count": 12,
   "metadata": {
    "pycharm": {
     "name": "#%%\n"
    }
   },
   "outputs": [
    {
     "name": "stdout",
     "output_type": "stream",
     "text": [
      "Gradient is 3.452, with error 0.162\n",
      "Intercept is 26.637, with error 11.316\n",
      "Correlation coefficient is 0.993\n"
     ]
    }
   ],
   "source": [
    "# Run polyfit again, this time telling it to return the covariance matrix\n",
    "coeffs, V = np.polyfit(scaled_radius_inverse, velocity_squared, 1, cov=True)\n",
    "gradient = coeffs[0]\n",
    "intercept = coeffs[1]\n",
    "\n",
    "# Compute the gradient and intercept error\n",
    "gradient_error = np.sqrt(V[0][0])\n",
    "intercept_error = np.sqrt(V[1][1])\n",
    "\n",
    "# Aside: If you also want the correlation coefficient, you can:\n",
    "correlation = np.corrcoef(scaled_radius_inverse, velocity_squared)[0, 1]\n",
    "\n",
    "print(f\"Gradient is {gradient:.3f}, with error {gradient_error:.3f}\")\n",
    "print(f\"Intercept is {intercept:.3f}, with error {intercept_error:.3f}\")\n",
    "print(f\"Correlation coefficient is {correlation:.3f}\")"
   ]
  },
  {
   "cell_type": "markdown",
   "metadata": {
    "pycharm": {
     "name": "#%% md\n"
    }
   },
   "source": [
    "Note that the original units remain valid for the above values"
   ]
  }
 ],
 "metadata": {
  "anaconda-cloud": {},
  "kernelspec": {
   "display_name": "Python 3 (ipykernel)",
   "language": "python",
   "name": "python3"
  },
  "language_info": {
   "codemirror_mode": {
    "name": "ipython",
    "version": 3
   },
   "file_extension": ".py",
   "mimetype": "text/x-python",
   "name": "python",
   "nbconvert_exporter": "python",
   "pygments_lexer": "ipython3",
   "version": "3.9.14"
  }
 },
 "nbformat": 4,
 "nbformat_minor": 2
}
