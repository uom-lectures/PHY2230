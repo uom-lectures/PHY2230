{
 "cells": [
  {
   "cell_type": "markdown",
   "metadata": {},
   "source": [
    "# Latex in Matplotlib\n",
    "\n",
    "LaTeX is a high-quality typesetting system which is used to produce high-quality documents. One of its main strengths is the ease with which mathematical equations can be generated. In this notebook we'll go through the basics of how to use latex typesetting in conjunction with matplotlib.\n",
    "\n",
    "First we'll import matplotlib"
   ]
  },
  {
   "cell_type": "code",
   "execution_count": 1,
   "metadata": {},
   "outputs": [],
   "source": [
    "from matplotlib import pyplot as plt\n",
    "\n",
    "# Enable inline plotting\n",
    "%matplotlib inline"
   ]
  },
  {
   "cell_type": "markdown",
   "metadata": {},
   "source": [
    "We'll set the font settings required for generating plots in your reports"
   ]
  },
  {
   "cell_type": "code",
   "execution_count": null,
   "metadata": {},
   "outputs": [],
   "source": [
    "# Set the font to STIX (similar to Cambria) and size 12\n",
    "plt.rcParams['font.family'] = 'STIXGeneral'\n",
    "plt.rcParams['mathtext.fontset'] = 'stix'\n",
    "plt.rcParams[\"font.size\"] = 12             \n",
    "plt.rcParams[\"font.weight\"] = \"normal\""
   ]
  },
  {
   "cell_type": "markdown",
   "metadata": {},
   "source": [
    "### Raw strings\n",
    "\n",
    "Wherever text can be included in a matplotlib plot (such as in a title or label) you can include latex typeset text. In this case, the string containing the text must be a *raw* string, as follows (note the `r` preceding the string in the second statement):"
   ]
  },
  {
   "cell_type": "code",
   "execution_count": 2,
   "metadata": {},
   "outputs": [],
   "source": [
    "normal_string = \"This is a normal string\"\n",
    "raw_string = r\"This is a raw string\""
   ]
  },
  {
   "cell_type": "markdown",
   "metadata": {},
   "source": [
    "The different between a normal and a raw string is that any special characeters (such as escape characters like `\\n` and `\\t`) are ignored in raw strings, as can be seen below:"
   ]
  },
  {
   "cell_type": "code",
   "execution_count": 3,
   "metadata": {},
   "outputs": [
    {
     "name": "stdout",
     "output_type": "stream",
     "text": [
      "This\t is\t a\t normal\t string\n",
      "This\\t is\\t a\\t normal\\t string\n"
     ]
    }
   ],
   "source": [
    "normal_string = \"This\\t is\\t a\\t normal\\t string\"\n",
    "raw_string = r\"This\\t is\\t a\\t raw\\t string\"\n",
    "\n",
    "print(normal_string)\n",
    "print(raw_string)"
   ]
  },
  {
   "cell_type": "markdown",
   "metadata": {},
   "source": [
    "### Latex math mode\n",
    "\n",
    "For the purpose of plot generation we're only interested in what's referred to as *math mode*, which can be regarded as the \"equation editor\". To enter math mode, encapsulate the string representation of our equation with the `$` sign. So, if our equation is a simple `1+2=3`, this is what it would look like when written as a normal string and when written using latex:\n",
    "\n",
    "Normal text: 1+2=3     \n",
    "Latex: $1+2=3$"
   ]
  },
  {
   "cell_type": "code",
   "execution_count": 8,
   "metadata": {},
   "outputs": [
    {
     "data": {
      "text/latex": [
       "1+2=3"
      ],
      "text/plain": [
       "<IPython.core.display.Latex object>"
      ]
     },
     "metadata": {},
     "output_type": "display_data"
    },
    {
     "data": {
      "text/latex": [
       "$1+2=3$"
      ],
      "text/plain": [
       "<IPython.core.display.Latex object>"
      ]
     },
     "metadata": {},
     "output_type": "display_data"
    }
   ],
   "source": [
    "# Note: do not use the code in this cell in your project, this is only\n",
    "# required to display latex in this document\n",
    "from IPython.display import Latex\n",
    "\n",
    "normal_string = \"1+2=3\"\n",
    "latex_string = \"$1+2=3$\"\n",
    "display(Latex(normal_string))\n",
    "display(Latex(latex_string))"
   ]
  },
  {
   "cell_type": "markdown",
   "metadata": {},
   "source": [
    "The following table lists the special symbols and commands which can be used with a latex equation. You can find a list of math symbols, including greek letters and special math characters, [here](https://oeis.org/wiki/List_of_LaTeX_mathematical_symbols):\n",
    "\n",
    "| Symbol/command | Description | Example | Displayed |\n",
    "| :----: | :--- | :---: | :----: |\n",
    "| ^ | superscript | \\\\$e^x\\\\$ |  $e^x$|\n",
    "| _ | subscript | \\\\$e_x\\\\$ |  $e_x$|\n",
    "| { } | When the content following a symbol is more than one character or symbol long, then these should be encapulsated within curly brackets  | \\\\$e^{x+2}\\\\$ |  $e^{x+2}$|\n",
    "| \\sqrt{} | Square root | \\\\$sqrt{2}\\\\$ | $\\sqrt{2}$ |\n",
    "| \\frac{}{}  | Display fraction, first curly bracket being the numerator and second the denominator | \\\\$\\frac{1}{2} \\\\$ | $\\frac{1}{2}$ |\n",
    "| \\int{} | Integral | \\\\$\\int{xdx\\\\$} | $\\int{xdx}$ |\n",
    "| \\int^{}_{}{} | Integral with bounds | \\\\$\\int_0^\\infty{xdx}\\\\$ | $\\int_0^\\infty{xdx}$ |\n",
    "| \\sum{} | Summation | \\\\$\\sum{x\\\\$} | $\\sum{x}$ |\n",
    "| \\sum^{}_{}{} | Sum with limits | \\\\$\\sum_0^\\infty{x}\\\\$ | $\\sum_0^N{x}$ |\n",
    "| \\; | Insert a small space | \\\\$a\\\\;b\\\\$ | $a\\;b$ |\n",
    "| \\text{} | Insert normal text within an equation | \\\\$x\\\\;\\text{and}\\\\;b\\\\$ | $a\\;\\text{and}\\;b$ |\n",
    "| \\it{} | Display in italics (or rather, looks less bold) | \\\\$A \\it{A}\\\\$ | $A \\it{A}$\n",
    "\n",
    "\n"
   ]
  },
  {
   "cell_type": "markdown",
   "metadata": {},
   "source": [
    "### Latex equations in Matplotlib\n",
    "\n",
    "To use latex in matplotlib simply format the raw string as needed:"
   ]
  },
  {
   "cell_type": "code",
   "execution_count": 26,
   "metadata": {},
   "outputs": [
    {
     "data": {
      "text/plain": [
       "[<matplotlib.lines.Line2D at 0x194606aaf28>]"
      ]
     },
     "execution_count": 26,
     "metadata": {},
     "output_type": "execute_result"
    },
    {
     "data": {
      "image/png": "[encoded data removed]",
      "text/plain": [
       "<Figure size 432x288 with 1 Axes>"
      ]
     },
     "metadata": {
      "needs_background": "light"
     },
     "output_type": "display_data"
    }
   ],
   "source": [
    "import numpy as np\n",
    "\n",
    "x = np.linspace(0, 4 * np.pi, 100)\n",
    "y = np.sin(x) ** 2\n",
    "\n",
    "plt.ylabel(r\"$\\sin(t)^2$\")\n",
    "plt.xlabel(r\"$t$\")\n",
    "plt.title(r\"$y=\\sin(t)^2$\")\n",
    "plt.plot(x, y)"
   ]
  }
 ],
 "metadata": {
  "kernelspec": {
   "display_name": "Python 3 (ipykernel)",
   "language": "python",
   "name": "python3"
  },
  "language_info": {
   "codemirror_mode": {
    "name": "ipython",
    "version": 3
   },
   "file_extension": ".py",
   "mimetype": "text/x-python",
   "name": "python",
   "nbconvert_exporter": "python",
   "pygments_lexer": "ipython3",
   "version": "3.9.14"
  }
 },
 "nbformat": 4,
 "nbformat_minor": 2
}
