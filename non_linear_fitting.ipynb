{
 "cells": [
  {
   "cell_type": "markdown",
   "metadata": {},
   "source": [
    "# Non-linear Fitting\n",
    "\n",
    "Up till now, all our data analysis involved fitting an N-dimensional polynomial to the data. However, this will not give us correct fits if the underlying data follows a different behaviour, such as an exponential. In this notebook we'll see how we can fit data to arbitrary functions by using SciPy's `optimize.curve_fit` function. We'll demonstrate this by using one of the first year lab experiments: The field-effect transistor (JFET). Recall the experiment description\n",
    "\n",
    "### Experiment description\n",
    "\n",
    "This is an experiment to determine the IV characteristics of a JFET. A junction gate field-effect transistor (JFET) is the simplest type of field transistor. Electrons flow between Source and Drain terminals, while applying a potential difference over the gate impedes this flow, thus reducing the current. \n",
    "\n",
    "Once the circuit is constructed, it is turned on and the resistance is varied. For each resistance the voltage is recorded, and thus the current is determined. \n",
    "\n",
    "For the purpose of this notebook, the experiment readings have already been performed and we need to perform the required data analysis. The resulting measurements are stored in [this excel file](data/jfet_data.xlsx). \n",
    "\n",
    "### Data Analysis\n",
    "\n",
    "Theory suggests that\n",
    "\n",
    "$$ I_d\\propto(V_T - V_S)^a $$\n",
    "\n",
    "where $V_T$ is the source-drain potential difference when $I_d$ is 0 and $a=2$. Here we will investigate this relationship by fitting a power curve to the data.\n",
    "\n",
    "We can load the data using pandas:"
   ]
  },
  {
   "cell_type": "code",
   "execution_count": 2,
   "metadata": {},
   "outputs": [],
   "source": [
    "import pandas as pd\n",
    "import numpy as np"
   ]
  },
  {
   "cell_type": "code",
   "execution_count": 3,
   "metadata": {},
   "outputs": [
    {
     "data": {
      "text/html": [
       "<div>\n",
       "<style scoped>\n",
       "    .dataframe tbody tr th:only-of-type {\n",
       "        vertical-align: middle;\n",
       "    }\n",
       "\n",
       "    .dataframe tbody tr th {\n",
       "        vertical-align: top;\n",
       "    }\n",
       "\n",
       "    .dataframe thead th {\n",
       "        text-align: right;\n",
       "    }\n",
       "</style>\n",
       "<table border=\"1\" class=\"dataframe\">\n",
       "  <thead>\n",
       "    <tr style=\"text-align: right;\">\n",
       "      <th></th>\n",
       "      <th>R</th>\n",
       "      <th>V1</th>\n",
       "      <th>V2</th>\n",
       "    </tr>\n",
       "  </thead>\n",
       "  <tbody>\n",
       "    <tr>\n",
       "      <th>0</th>\n",
       "      <td>100</td>\n",
       "      <td>0.47</td>\n",
       "      <td>0.47</td>\n",
       "    </tr>\n",
       "    <tr>\n",
       "      <th>1</th>\n",
       "      <td>200</td>\n",
       "      <td>0.74</td>\n",
       "      <td>0.74</td>\n",
       "    </tr>\n",
       "    <tr>\n",
       "      <th>2</th>\n",
       "      <td>300</td>\n",
       "      <td>0.91</td>\n",
       "      <td>0.92</td>\n",
       "    </tr>\n",
       "    <tr>\n",
       "      <th>3</th>\n",
       "      <td>400</td>\n",
       "      <td>1.04</td>\n",
       "      <td>1.05</td>\n",
       "    </tr>\n",
       "    <tr>\n",
       "      <th>4</th>\n",
       "      <td>500</td>\n",
       "      <td>1.14</td>\n",
       "      <td>1.15</td>\n",
       "    </tr>\n",
       "    <tr>\n",
       "      <th>5</th>\n",
       "      <td>600</td>\n",
       "      <td>1.23</td>\n",
       "      <td>1.23</td>\n",
       "    </tr>\n",
       "    <tr>\n",
       "      <th>6</th>\n",
       "      <td>700</td>\n",
       "      <td>1.29</td>\n",
       "      <td>1.29</td>\n",
       "    </tr>\n",
       "    <tr>\n",
       "      <th>7</th>\n",
       "      <td>800</td>\n",
       "      <td>1.35</td>\n",
       "      <td>1.35</td>\n",
       "    </tr>\n",
       "    <tr>\n",
       "      <th>8</th>\n",
       "      <td>900</td>\n",
       "      <td>1.40</td>\n",
       "      <td>1.40</td>\n",
       "    </tr>\n",
       "    <tr>\n",
       "      <th>9</th>\n",
       "      <td>1000</td>\n",
       "      <td>1.44</td>\n",
       "      <td>1.44</td>\n",
       "    </tr>\n",
       "    <tr>\n",
       "      <th>10</th>\n",
       "      <td>2000</td>\n",
       "      <td>1.69</td>\n",
       "      <td>1.68</td>\n",
       "    </tr>\n",
       "    <tr>\n",
       "      <th>11</th>\n",
       "      <td>3000</td>\n",
       "      <td>1.81</td>\n",
       "      <td>1.80</td>\n",
       "    </tr>\n",
       "    <tr>\n",
       "      <th>12</th>\n",
       "      <td>4000</td>\n",
       "      <td>1.88</td>\n",
       "      <td>1.87</td>\n",
       "    </tr>\n",
       "    <tr>\n",
       "      <th>13</th>\n",
       "      <td>5000</td>\n",
       "      <td>1.93</td>\n",
       "      <td>1.92</td>\n",
       "    </tr>\n",
       "    <tr>\n",
       "      <th>14</th>\n",
       "      <td>6000</td>\n",
       "      <td>1.97</td>\n",
       "      <td>1.96</td>\n",
       "    </tr>\n",
       "    <tr>\n",
       "      <th>15</th>\n",
       "      <td>7000</td>\n",
       "      <td>2.00</td>\n",
       "      <td>2.00</td>\n",
       "    </tr>\n",
       "    <tr>\n",
       "      <th>16</th>\n",
       "      <td>8000</td>\n",
       "      <td>2.02</td>\n",
       "      <td>2.02</td>\n",
       "    </tr>\n",
       "    <tr>\n",
       "      <th>17</th>\n",
       "      <td>9000</td>\n",
       "      <td>2.04</td>\n",
       "      <td>2.04</td>\n",
       "    </tr>\n",
       "    <tr>\n",
       "      <th>18</th>\n",
       "      <td>10000</td>\n",
       "      <td>2.06</td>\n",
       "      <td>2.06</td>\n",
       "    </tr>\n",
       "  </tbody>\n",
       "</table>\n",
       "</div>"
      ],
      "text/plain": [
       "        R    V1    V2\n",
       "0     100  0.47  0.47\n",
       "1     200  0.74  0.74\n",
       "2     300  0.91  0.92\n",
       "3     400  1.04  1.05\n",
       "4     500  1.14  1.15\n",
       "5     600  1.23  1.23\n",
       "6     700  1.29  1.29\n",
       "7     800  1.35  1.35\n",
       "8     900  1.40  1.40\n",
       "9    1000  1.44  1.44\n",
       "10   2000  1.69  1.68\n",
       "11   3000  1.81  1.80\n",
       "12   4000  1.88  1.87\n",
       "13   5000  1.93  1.92\n",
       "14   6000  1.97  1.96\n",
       "15   7000  2.00  2.00\n",
       "16   8000  2.02  2.02\n",
       "17   9000  2.04  2.04\n",
       "18  10000  2.06  2.06"
      ]
     },
     "execution_count": 3,
     "metadata": {},
     "output_type": "execute_result"
    }
   ],
   "source": [
    "# Read excel file using pandas\n",
    "data = pd.read_excel('data/jfet_data.xlsx', 0)\n",
    "\n",
    "# Display data\n",
    "data"
   ]
  },
  {
   "cell_type": "markdown",
   "metadata": {},
   "source": [
    "As you can see, the data in the excel file consists of multiple rows which show the readings for a different resistance value. For each row there are two measurements of the voltage. First we should find the average voltage for each row:"
   ]
  },
  {
   "cell_type": "code",
   "execution_count": 4,
   "metadata": {},
   "outputs": [],
   "source": [
    "average_V =  0.5 * (data['V1'] + data['V2'])"
   ]
  },
  {
   "cell_type": "markdown",
   "metadata": {},
   "source": [
    "Next we'll determine the current for each row by using Ohm's law"
   ]
  },
  {
   "cell_type": "code",
   "execution_count": 5,
   "metadata": {},
   "outputs": [],
   "source": [
    "current = average_V / data['R']"
   ]
  },
  {
   "cell_type": "markdown",
   "metadata": {},
   "source": [
    "Let's plot the data and see what it looks like"
   ]
  },
  {
   "cell_type": "code",
   "execution_count": 6,
   "metadata": {},
   "outputs": [
    {
     "data": {
      "image/png": "[encoded data removed]",
      "text/plain": [
       "<Figure size 432x288 with 1 Axes>"
      ]
     },
     "metadata": {
      "needs_background": "light"
     },
     "output_type": "display_data"
    }
   ],
   "source": [
    "from matplotlib import pyplot as plt\n",
    "\n",
    "# Enable inline plotting\n",
    "%matplotlib inline\n",
    "\n",
    "# Plot the data\n",
    "plt.scatter(current, average_V)\n",
    "plt.xlim(0, 0.005) #  Limit the x-axis\n",
    "plt.show()"
   ]
  },
  {
   "cell_type": "markdown",
   "metadata": {},
   "source": [
    "We need to fit a curve this data. We know that the relationship between $I_d$ and $V_S$ is $ I_d\\propto(V_T - V_S)^a$, so we need to fit a power law. We'll use `scipy.optimize.curve_fit` for this, which is able to fit any function to provided data points through non-linear least squares minimization. Note that the equation is not an equality but a proportionaly, so we need to factor this into account. We can change this into an equality equation by adding a factor: $ I_d=k(V_T - V_S)^a$.\n",
    "\n",
    "We must first define a function which, given measurements $V_S$ and a value for $V_T$, $k$ and $a$, will return the current:"
   ]
  },
  {
   "cell_type": "code",
   "execution_count": 7,
   "metadata": {},
   "outputs": [],
   "source": [
    "def fit_func(v_s, v_t, k, a):\n",
    "    return k * (np.power(v_t - v_s, a))"
   ]
  },
  {
   "cell_type": "markdown",
   "metadata": {},
   "source": [
    "We'll use this function for the fitting as follows"
   ]
  },
  {
   "cell_type": "code",
   "execution_count": 8,
   "metadata": {},
   "outputs": [],
   "source": [
    "from scipy.optimize import curve_fit\n",
    "\n",
    "# First argument is the function we want to fit\n",
    "# Second argument is the x_data (in this case current)\n",
    "# Third argument is the y_data (in this case average_V)\n",
    "popt, pcov = curve_fit(fit_func, average_V, current, p0=(2.5, 1, 1))"
   ]
  },
  {
   "cell_type": "markdown",
   "metadata": {},
   "source": [
    "`curve_fit` return two items: `popt` which are the calculated optimal values for the parameters (so in this case, `popt[0]` is the value for $V_T$, `popt[1]` is the value for `k` and `popt[2]` is the value for `a`), and `pcov` which is the estimated covariance of `popt`."
   ]
  },
  {
   "cell_type": "code",
   "execution_count": 10,
   "metadata": {},
   "outputs": [
    {
     "name": "stdout",
     "output_type": "stream",
     "text": [
      "Value for $V_T$ is 2.298123\n",
      "Value for $k$ is 0.001835\n",
      "Value for $a$ is 1.564918\n"
     ]
    }
   ],
   "source": [
    "print(f\"Value for $V_T$ is {popt[0]:4f}\")\n",
    "print(f\"Value for $k$ is {popt[1]:4f}\")\n",
    "print(f\"Value for $a$ is {popt[2]:4f}\")"
   ]
  },
  {
   "cell_type": "markdown",
   "metadata": {},
   "source": [
    "Let's use the value from `popt` to generate the fitted line:"
   ]
  },
  {
   "cell_type": "code",
   "execution_count": 14,
   "metadata": {},
   "outputs": [],
   "source": [
    "fitted_line = fit_func(average_V, popt[0], popt[1], popt[2])"
   ]
  },
  {
   "cell_type": "markdown",
   "metadata": {},
   "source": [
    "Finally, generate the final plot showing data points and the fit"
   ]
  },
  {
   "cell_type": "code",
   "execution_count": 15,
   "metadata": {},
   "outputs": [
    {
     "data": {
      "image/png": "[encoded data removed]",
      "text/plain": [
       "<Figure size 576x720 with 1 Axes>"
      ]
     },
     "metadata": {
      "needs_background": "light"
     },
     "output_type": "display_data"
    }
   ],
   "source": [
    "# Set the font to Cambria and size 12\n",
    "plt.rcParams[\"font.family\"] = \"Cambria\"\n",
    "plt.rcParams[\"font.size\"] = 12\n",
    "plt.rcParams[\"font.weight\"] = \"normal\"\n",
    "\n",
    "# Create figure and set size\n",
    "f = plt.figure(figsize=(8, 10))\n",
    "\n",
    "# Include data points\n",
    "plt.scatter(current, average_V, color='k')\n",
    "\n",
    "# Include fit\n",
    "plt.plot(fitted_line, average_V, 'k--')\n",
    "\n",
    "# Enable minor ticks so that we can show a fine grid\n",
    "plt.minorticks_on()\n",
    "plt.grid(b=True, which='major', linestyle='-')\n",
    "plt.grid(b=True, which='minor', linestyle='--')\n",
    "\n",
    "# Display labels\n",
    "plt.xlabel(r\"$I_d$\")\n",
    "plt.ylabel(r\"$V_S$\")\n",
    "\n",
    "# Final adjustments\n",
    "plt.xlim(0, 0.005)\n",
    "plt.show()"
   ]
  },
  {
   "cell_type": "markdown",
   "metadata": {},
   "source": [
    "***\n",
    "The following files contain experiment data for some of the first years experiment you preformed last year. You can practice producing error bars through them:\n",
    "* [The compound pendulum A](data/compound_pendulum_data.xlsx)\n",
    "* [Discharging a capacitor](data/capacitor_data.xlsx)"
   ]
  }
 ],
 "metadata": {
  "kernelspec": {
   "display_name": "Python 3",
   "language": "python",
   "name": "python3"
  },
  "language_info": {
   "codemirror_mode": {
    "name": "ipython",
    "version": 3
   },
   "file_extension": ".py",
   "mimetype": "text/x-python",
   "name": "python",
   "nbconvert_exporter": "python",
   "pygments_lexer": "ipython3",
   "version": "3.8.10"
  }
 },
 "nbformat": 4,
 "nbformat_minor": 2
}
