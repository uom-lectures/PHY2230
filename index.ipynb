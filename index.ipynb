{
 "cells": [
  {
   "cell_type": "markdown",
   "metadata": {},
   "source": [
    "# PHY2230 - \tExperimental Physics\n",
    "\n",
    "Welcome to the PHY2230 - Experimental Physics. These notes are here to help you gather and analyse the data of your experiments. \n",
    "\n",
    "These notes build on the notes provided for [PHY1135](https://bit.ly/3FoOhE7)\n",
    "\n",
    "- [Pandas](pandas.ipynb)\n",
    "- [Latex in Matplotlib](latex_matplotlib.ipynb)\n",
    "- [Data Analysis Example](data_analysis_example.ipynb)\n",
    "- [Plotting Uncertainties](plotting_uncertainties.ipynb) \n",
    "- [Non-linear fitting](non_linear_fitting.ipynb) "
   ]
  }
 ],
 "metadata": {
  "anaconda-cloud": {},
  "kernelspec": {
   "display_name": "Python 3 (ipykernel)",
   "language": "python",
   "name": "python3"
  },
  "language_info": {
   "codemirror_mode": {
    "name": "ipython",
    "version": 3
   },
   "file_extension": ".py",
   "mimetype": "text/x-python",
   "name": "python",
   "nbconvert_exporter": "python",
   "pygments_lexer": "ipython3",
   "version": "3.9.14"
  }
 },
 "nbformat": 4,
 "nbformat_minor": 2
}
